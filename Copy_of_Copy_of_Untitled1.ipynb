{
  "nbformat": 4,
  "nbformat_minor": 0,
  "metadata": {
    "colab": {
      "name": "Copy of Copy of Untitled1.ipynb",
      "provenance": [],
      "collapsed_sections": [],
      "authorship_tag": "ABX9TyOv6VsYu3MwaKAnWJDkxJtB",
      "include_colab_link": true
    },
    "kernelspec": {
      "name": "python3",
      "display_name": "Python 3"
    },
    "language_info": {
      "name": "python"
    }
  },
  "cells": [
    {
      "cell_type": "markdown",
      "metadata": {
        "id": "view-in-github",
        "colab_type": "text"
      },
      "source": [
        "<a href=\"https://colab.research.google.com/github/SharonF11/Programming/blob/main/Copy_of_Copy_of_Untitled1.ipynb\" target=\"_parent\"><img src=\"https://colab.research.google.com/assets/colab-badge.svg\" alt=\"Open In Colab\"/></a>"
      ]
    },
    {
      "cell_type": "code",
      "execution_count": null,
      "metadata": {
        "id": "x4MYAa3CKJYX"
      },
      "outputs": [],
      "source": [
        "# Create a class Employee, and create and test a function to compute net pay from payment, work and tax credit information.\n",
        "Employee = (12345, 'Green', 'Joe', 37, 16, 1.5, 72, 710)\n",
        "\n",
        "class Employee:\n",
        "    def Wages(rgRate, Rghours, overtime, OtRate, hrs):\n",
        "        Rghours = float(input('Normal hours max 37'))\n",
        "        overtime = float(input('overtime hours'))\n",
        "        rgRate = 16\n",
        "        OtRate = 24\n",
        "        return Rghours, rgRate, overtime, OtRate\n",
        "    print(Wages)\n",
        "\n",
        "    def GrossPay(rgRate, Rghours, overtime, OtRate, hrs):\n",
        "        if Rghours < 38:\n",
        "            Rghours = hrs\n",
        "            overtime = 0\n",
        "        else:\n",
        "            Rghours = +37\n",
        "            overtime = hrs-37\n",
        "        if Rghours > 37:\n",
        "            OtRate = 1.5 * rgRate\n",
        "            overtime = hrs-37 * OtRate\n",
        "        return overtime, Rghours"
      ]
    },
    {
      "cell_type": "code",
      "source": [
        ""
      ],
      "metadata": {
        "id": "mrAJs0vIKTDS"
      },
      "execution_count": null,
      "outputs": []
    },
    {
      "cell_type": "code",
      "source": [
        "# Create a class Employee, and create and test a function to compute net pay from payment, work and tax credit information.\n",
        "Employee = (12345, 'Green', 'Joe', 37, 16, 1.5, 72, 710)\n",
        "\n",
        "class Employee:\n",
        "    def Wages(rgRate, Rghours, overtime, OtRate, hrs):\n",
        "        Rghours = float(input('Normal hours max 37'))\n",
        "        overtime = float(input('overtime hours'))\n",
        "        rgRate = 16\n",
        "        OtRate = 24\n",
        "        return Rghours, rgRate, overtime, OtRate\n",
        "    print(Wages)\n",
        "\n",
        "    def GrossPay(rgRate, Rghours, overtime, OtRate, hrs):\n",
        "        if Rghours < 38:\n",
        "            Rghours = hrs\n",
        "            overtime = 0\n",
        "        else:\n",
        "            Rghours = +37\n",
        "            overtime = hrs-37\n",
        "        if Rghours > 37:\n",
        "            OtRate = 1.5 * rgRate\n",
        "            overtime = hrs-37 * OtRate\n",
        "        return overtime, Rghours"
      ],
      "metadata": {
        "id": "HvfD4iV_KfLK"
      },
      "execution_count": null,
      "outputs": []
    },
    {
      "cell_type": "code",
      "source": [
        "def grossPay(hours, rate):\n",
        "  if hours > 42:\n",
        "      return 37 * rate +(hours - 37) * rate\n",
        "  else:\n",
        "      return hours * rate\n",
        "\n",
        "hours = 42\n",
        "rate = 16\n",
        "\n",
        "pay = grossPay(hours, rate)\n",
        "\n",
        "print(f\"Total gross pay: Rs.(pay:.2f) \")      \n",
        "\n",
        "\n",
        "\n",
        "\n",
        "\n",
        "\n",
        "\n",
        "\n",
        "\n",
        "\n",
        "\n",
        "\n",
        "\n",
        "\n",
        "\n",
        "\n"
      ],
      "metadata": {
        "colab": {
          "base_uri": "https://localhost:8080/"
        },
        "id": "CYsWAXtuKjpc",
        "outputId": "4a93c103-5ff5-4fef-e014-78b36ac74a1c"
      },
      "execution_count": null,
      "outputs": [
        {
          "output_type": "stream",
          "name": "stdout",
          "text": [
            "Total gross pay: Rs.(pay:.2f) \n"
          ]
        }
      ]
    },
    {
      "cell_type": "code",
      "source": [
        "\n",
        "def GrossPay(hours, rate):\n",
        "  hours ={\n",
        "      'regularhours': max(hours,37),\n",
        "      'overtimehours': (hours -37),\n",
        "  }\n",
        "  GrossPay = hours['regularhours']*rate +\\\n",
        "    hours['overtimehours']*1.5*rate +\\\n",
        "  print(f\"this is your pay: {GrossPay}\")  "
      ],
      "metadata": {
        "id": "fsZlV7UgLfJy"
      },
      "execution_count": null,
      "outputs": []
    },
    {
      "cell_type": "code",
      "source": [
        "for hours in [39]:\n",
        "  GrossPay(hours, 2)"
      ],
      "metadata": {
        "colab": {
          "base_uri": "https://localhost:8080/",
          "height": 266
        },
        "id": "qz-HS1CmLmRW",
        "outputId": "b2a69abe-e869-4356-9363-d979bb3db1ab"
      },
      "execution_count": null,
      "outputs": [
        {
          "output_type": "error",
          "ename": "UnboundLocalError",
          "evalue": "ignored",
          "traceback": [
            "\u001b[0;31m---------------------------------------------------------------------------\u001b[0m",
            "\u001b[0;31mUnboundLocalError\u001b[0m                         Traceback (most recent call last)",
            "\u001b[0;32m<ipython-input-4-3a69b31b0685>\u001b[0m in \u001b[0;36m<module>\u001b[0;34m()\u001b[0m\n\u001b[1;32m      1\u001b[0m \u001b[0;32mfor\u001b[0m \u001b[0mhours\u001b[0m \u001b[0;32min\u001b[0m \u001b[0;34m[\u001b[0m\u001b[0;36m39\u001b[0m\u001b[0;34m]\u001b[0m\u001b[0;34m:\u001b[0m\u001b[0;34m\u001b[0m\u001b[0;34m\u001b[0m\u001b[0m\n\u001b[0;32m----> 2\u001b[0;31m   \u001b[0mGrossPay\u001b[0m\u001b[0;34m(\u001b[0m\u001b[0mhours\u001b[0m\u001b[0;34m,\u001b[0m \u001b[0;36m2\u001b[0m\u001b[0;34m)\u001b[0m\u001b[0;34m\u001b[0m\u001b[0;34m\u001b[0m\u001b[0m\n\u001b[0m",
            "\u001b[0;32m<ipython-input-3-96b197a4b0cd>\u001b[0m in \u001b[0;36mGrossPay\u001b[0;34m(hours, rate)\u001b[0m\n\u001b[1;32m      5\u001b[0m       \u001b[0;34m'overtimehours'\u001b[0m\u001b[0;34m:\u001b[0m \u001b[0;34m(\u001b[0m\u001b[0mhours\u001b[0m \u001b[0;34m-\u001b[0m\u001b[0;36m37\u001b[0m\u001b[0;34m)\u001b[0m\u001b[0;34m,\u001b[0m\u001b[0;34m\u001b[0m\u001b[0;34m\u001b[0m\u001b[0m\n\u001b[1;32m      6\u001b[0m   }\n\u001b[0;32m----> 7\u001b[0;31m   \u001b[0mGrossPay\u001b[0m \u001b[0;34m=\u001b[0m \u001b[0mhours\u001b[0m\u001b[0;34m[\u001b[0m\u001b[0;34m'regularhours'\u001b[0m\u001b[0;34m]\u001b[0m\u001b[0;34m*\u001b[0m\u001b[0mrate\u001b[0m \u001b[0;34m+\u001b[0m    \u001b[0mhours\u001b[0m\u001b[0;34m[\u001b[0m\u001b[0;34m'overtimehours'\u001b[0m\u001b[0;34m]\u001b[0m\u001b[0;34m*\u001b[0m\u001b[0;36m1.5\u001b[0m\u001b[0;34m*\u001b[0m\u001b[0mrate\u001b[0m \u001b[0;34m+\u001b[0m  \u001b[0mprint\u001b[0m\u001b[0;34m(\u001b[0m\u001b[0;34mf\"this is your pay: {GrossPay}\"\u001b[0m\u001b[0;34m)\u001b[0m\u001b[0;34m\u001b[0m\u001b[0;34m\u001b[0m\u001b[0m\n\u001b[0m",
            "\u001b[0;31mUnboundLocalError\u001b[0m: local variable 'GrossPay' referenced before assignment"
          ]
        }
      ]
    },
    {
      "cell_type": "code",
      "source": [
        "def grossPay(hours, rate):\n",
        "    if hours >37:\n",
        "        return 37 * rate + (hours - 37) * rate * 1.5\n",
        "    else:\n",
        "        return hours * rate\n",
        " \n",
        " \n",
        "hours = 42\n",
        "rate = 16\n",
        " \n",
        "pay = grossPay(hours, rate)\n",
        " \n",
        "print(f\"Total gross pay: GP {pay:.2f} \")"
      ],
      "metadata": {
        "colab": {
          "base_uri": "https://localhost:8080/"
        },
        "id": "lO-zhFGJL0zy",
        "outputId": "2cf0eea6-13de-4224-c292-98386eae6a70"
      },
      "execution_count": null,
      "outputs": [
        {
          "output_type": "stream",
          "name": "stdout",
          "text": [
            "Total gross pay: GP 712.00 \n"
          ]
        }
      ]
    },
    {
      "cell_type": "code",
      "source": [
        "\n",
        "def tax(grossPay, stRate, hRate, taxCredit):\n",
        "    if grossPay >710:\n",
        "      return 710 * stRate + (grossPay-710) * hRate \n",
        "    else:\n",
        "      return grossPay * stRate,\n",
        "\n",
        "grossPay = 712\n",
        "stRate = 0.2\n",
        "hRate = 0.4\n",
        "taxCredit=-70\n",
        "\n",
        "netTax = tax(grossPay, stRate, hRate, taxCredit)\n",
        "\n",
        "print(f\"Total tax: tax {netTax:.2f}\")\n"
      ],
      "metadata": {
        "colab": {
          "base_uri": "https://localhost:8080/"
        },
        "id": "Wr8Wbgz2L622",
        "outputId": "6e5e9d67-203d-4e08-df02-5937092c6c25"
      },
      "execution_count": null,
      "outputs": [
        {
          "output_type": "stream",
          "name": "stdout",
          "text": [
            "Total tax: tax 142.80\n"
          ]
        }
      ]
    },
    {
      "cell_type": "code",
      "source": [
        "def PRSI(grossPay, prsiRate):\n",
        "      return grossPay * prsiRate\n",
        "\n",
        "grossPay = 712\n",
        "prsiRate = .04\n",
        "\n",
        "totalPRSI = PRSI(grossPay, prsiRate)\n",
        "\n",
        "print(f\"Total PRSI: PRSI {totalPRSI:.2f} \")"
      ],
      "metadata": {
        "colab": {
          "base_uri": "https://localhost:8080/"
        },
        "id": "dGjjawVlMGq1",
        "outputId": "7a279139-6ab3-4320-f940-3cdd56fb398b"
      },
      "execution_count": null,
      "outputs": [
        {
          "output_type": "stream",
          "name": "stdout",
          "text": [
            "Total PRSI: PRSI 28.48 \n"
          ]
        }
      ]
    },
    {
      "cell_type": "code",
      "source": [
        "from os import name\n",
        "jg= Employee(12345,'Green','Joe', 37, 16, 1.5, 72, 710)\n",
        "jg.computePayment(42, '31/10/2021')\n",
        "class Empolyee:\n",
        "  def __init__(self, StaffId, name, date, RegularHoursWorked, OvertimeHours, RegularRate, OvertimeRate, taxCredit, standardRate):\n",
        "    self.__StaffId=StaffId\n",
        "    self.name=name\n",
        "    self.date=date\n",
        "    self.RegularHoursWorked=RegularHoursWorked \n",
        "    self.OvertimeHours=OvertimeHours\n",
        "    self.RegularRate=RegularRate\n",
        "    self.OvertimeRate=OvertimeRate\n",
        "    self.taxCredit=taxCredit\n",
        "    self.standardRate=standardRate\n",
        "  \n",
        "  def computePayment(self, Date, HoursWorked):\n",
        "\n",
        "def PRSI(grossPay, prsiRate):\n",
        "  return grossPay * prsiRate\n",
        "\n",
        "grossPay = 712\n",
        "prsiRate = .04\n",
        "\n",
        "totalPRSI = PRSI(grossPay, prsiRate)\n",
        "\n",
        "print(f\"Total PRSI: PRSI {totalPRSI:.2f} \")\n",
        "\n",
        "def tax(grossPay, stRate, hRate):\n",
        "    if grossPay >710:\n",
        "      return 710 * stRate + (grossPay-710) * hRate \n",
        "    else:\n",
        "      return grossPay * .20\n",
        "\n",
        "grossPay = 712\n",
        "stRate = 0.2\n",
        "hRate = 0.4\n",
        "PRSI = .02\n",
        "\n",
        "netPay = tax(grossPay, stRate, hRate)\n",
        "\n",
        "print(f\"Total tax: tax {netPay:.2f}\")\n",
        "\n",
        "def grossPay(hours, rate):\n",
        "    if hours >37:\n",
        "        return 37 * rate + (hours - 37) * rate * 1.5\n",
        "    else:\n",
        "        return hours * rate\n",
        " \n",
        " \n",
        "hours = 42\n",
        "rate = 16\n",
        " \n",
        "pay = grossPay(hours, rate)\n",
        " \n",
        "print(f\"Total gross pay: GP {pay:.2f} \")"
      ],
      "metadata": {
        "colab": {
          "base_uri": "https://localhost:8080/",
          "height": 130
        },
        "id": "YXSQdvctMLNa",
        "outputId": "df899530-5c13-456e-f00e-1e0be1bfbebc"
      },
      "execution_count": null,
      "outputs": [
        {
          "output_type": "error",
          "ename": "IndentationError",
          "evalue": "ignored",
          "traceback": [
            "\u001b[0;36m  File \u001b[0;32m\"<ipython-input-8-acf1d7343172>\"\u001b[0;36m, line \u001b[0;32m18\u001b[0m\n\u001b[0;31m    def PRSI(grossPay, prsiRate):\u001b[0m\n\u001b[0m                                 ^\u001b[0m\n\u001b[0;31mIndentationError\u001b[0m\u001b[0;31m:\u001b[0m expected an indented block\n"
          ]
        }
      ]
    },
    {
      "cell_type": "code",
      "source": [
        "wages={}\n",
        "class Employee:\n",
        "  def __init__(self, StaffId, Fname, Lname, RegularHoursWorked, RegularRate, OvertimeRate, taxCredit, standardRate):\n",
        "    self.StaffId=StaffId\n",
        "    self.Fname=Fname\n",
        "    self.Lname=Lname\n",
        "    self.RegularHoursWorked=RegularHoursWorked \n",
        "    self.RegularRate=RegularRate\n",
        "    self.OvertimeRate=OvertimeRate\n",
        "    self.taxCredit=taxCredit\n",
        "    self.standardRate=standardRate\n",
        "  \n",
        "  def computePayment(self,HoursWorked, Date, ):\n",
        "    wages['Date']=Date\n",
        "    wages['name']=self.Fname+' ' +self.Lname\n",
        "    wages['RegularHoursWorked']=self.RegularHoursWorked\n",
        "    wages['RegularRate']=self.RegularRate\n",
        "    wages['regularPay']=self.RegularHoursWorked*self.RegularRate\n",
        "    wages['OvertimeHours']=HoursWorked - self.RegularHoursWorked\n",
        "    wages['OvertimeRate']=self.RegularRate*self.OvertimeRate\n",
        "    wages['OvertimePay']=wages['OvertimeHours']*wages['OvertimeRate']\n",
        "    wages['GrossPay']=wages['OvertimePay']+wages['regularPay']\n",
        "    wages['standardRate']=self.standardRate\n",
        "    wages['higherRate']=wages['GrossPay']-wages['standardRate']\n",
        "    wages['standardTax']=wages['standardRate']*.20\n",
        "    wages['higherRate']=wages['higherRate']*.40\n",
        "    wages['totalTax']=wages['standardRate']+wages['higherRate']\n",
        "    wages['taxCredit']=self.taxCredit\n",
        "    wages['netTax']=wages['totalTax']+wages['taxCredit']\n",
        "    wages['PRSI']=wages['GrossPay']*.04\n",
        "    wages['totalDeductions']=wages['netTax']+wages['PRSI']\n",
        "    wages['netTax']=wages['GrossPay'] -wages['totalDeductions']\n",
        "    return wages\n",
        "    \n",
        "\n",
        "jg = Employee(12345,'Green','Joe', 37, 16, 1.5, 72, 710)\n",
        "jg.computePayment(42, '31/10/2021')"
      ],
      "metadata": {
        "colab": {
          "base_uri": "https://localhost:8080/"
        },
        "id": "BfvB2RCfMZyz",
        "outputId": "04e73460-87ce-4cf8-dbed-9e33c59f565f"
      },
      "execution_count": null,
      "outputs": [
        {
          "output_type": "execute_result",
          "data": {
            "text/plain": [
              "{'Date': '31/10/2021',\n",
              " 'GrossPay': 712.0,\n",
              " 'OvertimeHours': 5,\n",
              " 'OvertimePay': 120.0,\n",
              " 'OvertimeRate': 24.0,\n",
              " 'PRSI': 28.48,\n",
              " 'RegularHoursWorked': 37,\n",
              " 'RegularRate': 16,\n",
              " 'higherRate': 0.8,\n",
              " 'name': 'Green Joe',\n",
              " 'netTax': -99.27999999999997,\n",
              " 'regularPay': 592,\n",
              " 'standardRate': 710,\n",
              " 'standardTax': 142.0,\n",
              " 'taxCredit': 72,\n",
              " 'totalDeductions': 811.28,\n",
              " 'totalTax': 710.8}"
            ]
          },
          "metadata": {},
          "execution_count": 15
        }
      ]
    },
    {
      "cell_type": "code",
      "source": [
        "def testNetLessEqualGross(self):\n",
        "  e=Employee(#Joe Green's Information)'\n",
        "  pi=e.computePayment(1,'31/10/2021')\n",
        "  self.assertLessEqual(pi['Net Pay'],pi['Gross Pay'])\n",
        "  "
      ],
      "metadata": {
        "colab": {
          "base_uri": "https://localhost:8080/",
          "height": 130
        },
        "id": "e4hU-HqyQIS0",
        "outputId": "8b4ab86a-dc65-45e8-a70e-e674ebacb2bc"
      },
      "execution_count": null,
      "outputs": [
        {
          "output_type": "error",
          "ename": "SyntaxError",
          "evalue": "ignored",
          "traceback": [
            "\u001b[0;36m  File \u001b[0;32m\"<ipython-input-14-7e00fe3656e8>\"\u001b[0;36m, line \u001b[0;32m4\u001b[0m\n\u001b[0;31m    self.assertLessEqual(pi['Net Pay'],pi['Gross Pay'])\u001b[0m\n\u001b[0m       ^\u001b[0m\n\u001b[0;31mSyntaxError\u001b[0m\u001b[0;31m:\u001b[0m invalid syntax\n"
          ]
        }
      ]
    },
    {
      "cell_type": "code",
      "source": [
        "import unittest\n",
        "class TestEmployee(unittest.TestCase):\n",
        "  # def testCreate(self):#test that the value of a created Employee is zero\n",
        "    #b=Employee()\n",
        "    #self.assertEqual(b.value(),0)\n",
        "  #test that if employee\n",
        "   # elif 1.20 then after adding two employee\n",
        "   #the value is 2.40\n",
        "  #def testAddItem(self):\n",
        "   # b=Employee()\n",
        "  #mplyee.setPrice('HoursWorked',1.20)\n",
        "    #b.addItem('employee,2)\n",
        "    #self.assertEqual(b.value(),2.40)\n",
        "\n",
        "def testAddMore(self):\n",
        "  b=Employee()\n",
        "  Employee.setHoursWorked('employee',1.20)\n",
        "  b.addItem('employee',2)\n",
        "  b.addItem('employee',2)\n",
        "  self.assertEqual(b.value(),4.80)\n",
        "\n",
        "def testRemoveSome(self):\n",
        "  b=Employee()\n",
        "  Employee.setPrice('employee',1.20)\n",
        "  b.addItem('employe ',4)\n",
        "  b.remove('employee',2)\n",
        "  self.assertEqual(b.value(),2.40)\n",
        "\n",
        "  def testRemoveAll(self):\n",
        "    b=Employee()\n",
        "    Employee.setPrice('employee',1.20)\n",
        "    Employee.setPrice('milk',1.99)\n",
        "    b.addItem('employee',4)\n",
        "    b.addItem('milk',1)\n",
        "    b.remove('employee')\n",
        "    self.assertEqual(b.value(),1.99)\n",
        "\n",
        "  #test that attempting to add a negative quantity results in an error!\n",
        "  def testAddNeg(self):\n",
        "    b=Employee()\n",
        "    Employee.setPrice('employee',1.20)\n",
        "    with self.assertRaises(ValueError): \n",
        "      b.addItem('employee',-2)\n",
        "\n",
        "  def testPrice(self):\n",
        "    with self.assertRaises(ValueError):\n",
        "      Employee.setPrice('employee',-2)\n",
        "    with self.assertRaises(ValueError):\n",
        "      Employee.setPrice('employee',0)\n",
        "\n",
        "  def testPriceType(self):\n",
        "    with self.assertRaises(TypeError):\n",
        "      Employee.setPrice('employee','Hello')\n"
      ],
      "metadata": {
        "colab": {
          "base_uri": "https://localhost:8080/",
          "height": 130
        },
        "id": "q4ovycgRR-Oq",
        "outputId": "b48dc13a-cdd0-4407-d6b6-56f79b25c7f6"
      },
      "execution_count": null,
      "outputs": [
        {
          "output_type": "error",
          "ename": "IndentationError",
          "evalue": "ignored",
          "traceback": [
            "\u001b[0;36m  File \u001b[0;32m\"<ipython-input-25-babe5a491975>\"\u001b[0;36m, line \u001b[0;32m15\u001b[0m\n\u001b[0;31m    def testAddMore(self):\u001b[0m\n\u001b[0m      ^\u001b[0m\n\u001b[0;31mIndentationError\u001b[0m\u001b[0;31m:\u001b[0m expected an indented block\n"
          ]
        }
      ]
    }
  ]
}